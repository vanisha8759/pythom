{
 "cells": [
  {
   "cell_type": "markdown",
   "id": "fda9ccff",
   "metadata": {},
   "source": [
    "1. Why are functions advantageous to have in your programs?\n",
    "\n",
    "-Function reduces the need of writing same code again and again.i.e duplicate code writing.\n",
    "function makes program easy to read, shorter and easy to update."
   ]
  },
  {
   "cell_type": "markdown",
   "id": "a1daa1b9",
   "metadata": {},
   "source": [
    "2. When does the code in a function run: when it's specified or when it's called?\n",
    "\n",
    "-The code in a function run when its' called."
   ]
  },
  {
   "cell_type": "markdown",
   "id": "734920b9",
   "metadata": {},
   "source": [
    "3. What statement creates a function?\n",
    "\n",
    "-The function can be defined by def keyword, followed by name of our choice, followed by set of parentheses which will hold any parameter that the function will take(it can be empty also), ending with colon.\n",
    "\n",
    "eg: def test(a):\n",
    "        return a"
   ]
  },
  {
   "cell_type": "markdown",
   "id": "49aeb856",
   "metadata": {},
   "source": [
    "4. What is the difference between a function and a function call?\n",
    "\n",
    "-A function is a block of code that does a particular operation and returns a result. It usually accepts inputs as parameters and returns a result. The parameters are not mandatory. A function call is the code used to pass control to a function."
   ]
  },
  {
   "cell_type": "markdown",
   "id": "51a5e817",
   "metadata": {},
   "source": [
    "5. How many global scopes are there in a Python program? How many local scopes?\n",
    "\n",
    "-Global scope refers to the names of variables which are defined in the main body of a program. These are visible and accessed throughout the program.\n",
    "-Local scope refers to the names which are defined within a function and are local to that function. They can be accessed from the point of its definition until the end of the block in which it has been defined. The local scope exists till the time the function has been executed."
   ]
  },
  {
   "cell_type": "markdown",
   "id": "f4f8f728",
   "metadata": {},
   "source": [
    "6. What happens to variables in a local scope when the function call returns?\n",
    "\n",
    "-Local scope is destroyed when the function call returns. Local variables are undefined when the call function completes."
   ]
  },
  {
   "cell_type": "markdown",
   "id": "6d1d14f4",
   "metadata": {},
   "source": [
    "7. What is the concept of a return value? Is it possible to have a return value in an expression?\n",
    "\n",
    "-A return is a value that a function returns to the calling script or function when it completes its task. A return value can be any one of the four variable types: handle, integer, object, or string. The type of value your function returns depends largely on the task it performs.\n",
    "yes it is possible to have a return value in an expression"
   ]
  },
  {
   "cell_type": "markdown",
   "id": "33ca5c7a",
   "metadata": {},
   "source": [
    "8. If a function does not have a return statement, what is the return value of a call to that function?\n",
    "\n",
    "-If a function doesn't specify a return value, it returns None "
   ]
  },
  {
   "cell_type": "markdown",
   "id": "cbed1471",
   "metadata": {},
   "source": [
    "9. How do you make a function variable refer to the global variable?\n",
    "\n",
    "-If you want to refer to a global variable in a function, you can use the global keyword to declare which variables are global."
   ]
  },
  {
   "cell_type": "markdown",
   "id": "eceebaaa",
   "metadata": {},
   "source": [
    "10. What is the data type of None?\n",
    "\n",
    "-Data type of none is Nonetype. It just represents the absence of the value."
   ]
  },
  {
   "cell_type": "markdown",
   "id": "97e6277f",
   "metadata": {},
   "source": [
    "11. What does the sentence import areallyourpetsnamederic do?\n",
    "\n",
    "-This sentence will try to import a module named areallyourpetsnamederic"
   ]
  },
  {
   "cell_type": "markdown",
   "id": "ff805604",
   "metadata": {},
   "source": [
    "12. If you had a bacon() feature in a spam module, what would you call it after importing spam?\n",
    "\n",
    "-This function can be called with spam.bacon()"
   ]
  },
  {
   "cell_type": "markdown",
   "id": "af2aaa1d",
   "metadata": {},
   "source": [
    "13. What can you do to save a programme from crashing if it encounters an error?\n",
    "\n",
    "-Place the line of code that might cause an error in a try clause and use except block to handle the error."
   ]
  },
  {
   "cell_type": "markdown",
   "id": "862e595a",
   "metadata": {},
   "source": [
    "14. What is the purpose of the try clause? What is the purpose of the except clause?\n",
    "\n",
    "-The try block lets you test a block of code for errors. The except block lets you handle the error."
   ]
  }
 ],
 "metadata": {
  "kernelspec": {
   "display_name": "Python 3 (ipykernel)",
   "language": "python",
   "name": "python3"
  },
  "language_info": {
   "codemirror_mode": {
    "name": "ipython",
    "version": 3
   },
   "file_extension": ".py",
   "mimetype": "text/x-python",
   "name": "python",
   "nbconvert_exporter": "python",
   "pygments_lexer": "ipython3",
   "version": "3.9.13"
  }
 },
 "nbformat": 4,
 "nbformat_minor": 5
}
