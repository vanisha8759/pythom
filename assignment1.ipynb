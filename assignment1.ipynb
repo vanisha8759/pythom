{
 "cells": [
  {
   "cell_type": "code",
   "execution_count": null,
   "id": "1f4ea365",
   "metadata": {},
   "outputs": [],
   "source": [
    "1. In the below elements which of them are values or an expression? eg:- values can be\n",
    "integer or string and expressions will be mathematical operators.\n",
    "*        expression\n",
    "'hello'  values (string)\n",
    "-87.8    values (integer)\n",
    "-        expression\n",
    "/        expression\n",
    "+        expression\n",
    "6        values (integer)"
   ]
  },
  {
   "cell_type": "code",
   "execution_count": null,
   "id": "940469ed",
   "metadata": {},
   "outputs": [],
   "source": [
    "2. What is the difference between string and variable?\n",
    "string is data which is filled in variable\n",
    "variable is reference used to store the data.where data can be string, interger, complex no., float, etc \n",
    "variable name cannot contain +,@,#,%,*,(,),$,^. \n",
    "variable name should start with alphabate or undrescore(_). \n",
    "variable name can contain number but cannot start with number."
   ]
  },
  {
   "cell_type": "code",
   "execution_count": null,
   "id": "5683c218",
   "metadata": {},
   "outputs": [],
   "source": [
    "3. Describe three different data types.\n",
    "int- (integer)This data type stores positive and negative numbers but not decimal \n",
    "   eg: -30, 45\n",
    "float- This data type is majorly used to store numbers with decimal values\n",
    "   eg: 43.4\n",
    "bool- (boolean) This is a inbuilt data type which has only 2 values.\n",
    "   eg- True and False. It will check for statement whether True or False\n",
    "str- (string)This data type stores values entered in “ ” (quotations). It is mainly used to store names, things, etc\n",
    "   eg: \"vani\", \"don\",\"22\""
   ]
  },
  {
   "cell_type": "code",
   "execution_count": null,
   "id": "5cea23b4",
   "metadata": {},
   "outputs": [],
   "source": [
    "4. What is an expression made up of? What do all expressions do?\n",
    "An expression is made up of mathematical operators, constants and variables. \n",
    "An expression may consist of one or more operands, and zero or more operators to produce a value.\n",
    "Expression will represent a value which will be evaluated based on operators"
   ]
  },
  {
   "cell_type": "code",
   "execution_count": null,
   "id": "ff17db32",
   "metadata": {},
   "outputs": [],
   "source": [
    "5. This assignment statements, like spam = 10. What is the difference between an\n",
    "expression and a statement?\n",
    "An expression is a combination of operators and operands that is interpreted to produce some other value.\n",
    "But statement do not produce any value , it is just a standalone unit of execution."
   ]
  },
  {
   "cell_type": "code",
   "execution_count": null,
   "id": "38bed31d",
   "metadata": {},
   "outputs": [],
   "source": [
    "6. After running the following code, what does the variable bacon contain?\n",
    "bacon = 22\n",
    "bacon + 1\n",
    "After running the code we get 23 as output but, the variable bacon will contain 22"
   ]
  },
  {
   "cell_type": "code",
   "execution_count": null,
   "id": "0d070856",
   "metadata": {},
   "outputs": [],
   "source": [
    "7. What should the values of the following two terms be?\n",
    "'spam' + 'spamspam'\n",
    "  -'spamspamspam'\n",
    "\n",
    "'spam'* 3\n",
    "   -'spamspamspam'\n",
    "    \n",
    "    both are same i.e 'spamspamspam'"
   ]
  },
  {
   "cell_type": "code",
   "execution_count": null,
   "id": "12cb541c",
   "metadata": {},
   "outputs": [],
   "source": [
    "8. Why is eggs a valid variable name while 100 is invalid?\n",
    "A variable name must start with a letter or an underscore character (_) A variable name cannot start with a digit."
   ]
  },
  {
   "cell_type": "code",
   "execution_count": null,
   "id": "db2ca587",
   "metadata": {},
   "outputs": [],
   "source": [
    "9. What three functions can be used to get the integer, floating-point number, or string\n",
    "version of a value?\n",
    "\n",
    "int(2.01)\n",
    "2\n",
    "\n",
    "float(2)\n",
    "2.0\n",
    "\n",
    "str(2)\n",
    "'2'"
   ]
  },
  {
   "cell_type": "code",
   "execution_count": null,
   "id": "6d6b57e9",
   "metadata": {},
   "outputs": [],
   "source": [
    "10. Why does this expression cause an error? How can you fix it?\n",
    "'I have eaten' + 99 +  'burritos.'\n",
    "\n",
    "This expression cause an error because 99 is integer.\n",
    "Integer cannot concatenate string.\n",
    "to fix it we can add \" \" to 99 and make it string ie \"99\"\n",
    "\n",
    "'I have eaten' + ' 99 ' +  'burritos.'\n",
    "'I have eaten 99 burritos.'"
   ]
  },
  {
   "cell_type": "code",
   "execution_count": null,
   "id": "a2e97ec9",
   "metadata": {},
   "outputs": [],
   "source": []
  }
 ],
 "metadata": {
  "kernelspec": {
   "display_name": "Python 3 (ipykernel)",
   "language": "python",
   "name": "python3"
  },
  "language_info": {
   "codemirror_mode": {
    "name": "ipython",
    "version": 3
   },
   "file_extension": ".py",
   "mimetype": "text/x-python",
   "name": "python",
   "nbconvert_exporter": "python",
   "pygments_lexer": "ipython3",
   "version": "3.9.13"
  }
 },
 "nbformat": 4,
 "nbformat_minor": 5
}
