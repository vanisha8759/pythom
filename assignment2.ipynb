{
 "cells": [
  {
   "cell_type": "code",
   "execution_count": null,
   "id": "2df2a077",
   "metadata": {},
   "outputs": [],
   "source": [
    "1.What are the two values of the Boolean data type? How do you write them?\n",
    "The two values of the boolenan data type are true and false\n",
    "True\n",
    "False"
   ]
  },
  {
   "cell_type": "code",
   "execution_count": 1,
   "id": "9a18ad40",
   "metadata": {},
   "outputs": [
    {
     "data": {
      "text/plain": [
       "bool"
      ]
     },
     "execution_count": 1,
     "metadata": {},
     "output_type": "execute_result"
    }
   ],
   "source": [
    "a= True\n",
    "b= False\n",
    "type(a)"
   ]
  },
  {
   "cell_type": "code",
   "execution_count": null,
   "id": "ab9f2832",
   "metadata": {},
   "outputs": [],
   "source": [
    "2. What are the three different types of Boolean operators?\n",
    "3 diferent types of boolen operators are\n",
    "1. and\n",
    "2. or\n",
    "3. not"
   ]
  },
  {
   "cell_type": "code",
   "execution_count": null,
   "id": "6f970f88",
   "metadata": {},
   "outputs": [],
   "source": [
    "3. Make a list of each Boolean operator&#39;s truth tables (i.e. every possible combination of Boolean\n",
    "values for the operator and what it evaluate ).\n",
    "Ans:- \n",
    "True always stores 1 \n",
    "False stores 0\n",
    "\n",
    " AND TABLE\n",
    " a   b    a and b\n",
    " 0   0     0\n",
    " 0   1     0\n",
    " 1   0     0\n",
    " 1   1     1\n",
    " \n",
    " OR TABLE\n",
    " a   b    a or b\n",
    " 0   0     0\n",
    " 0   1     1\n",
    " 1   0     1\n",
    " 1   1     1\n",
    " \n",
    " AND TABLE\n",
    " a    not a\n",
    " 0    1     \n",
    " 1    0   "
   ]
  },
  {
   "cell_type": "code",
   "execution_count": null,
   "id": "8319f85d",
   "metadata": {},
   "outputs": [],
   "source": [
    "6. How do you tell the difference between the equal to and assignment operators?Describe a\n",
    "condition and when you would use one.\n",
    "equal to operator (==) is use to check whether the 2 operand are equal or not\n",
    "assignment operation (=) is use to assign a value to the variable\n",
    "eg:"
   ]
  },
  {
   "cell_type": "code",
   "execution_count": 2,
   "id": "fd13c477",
   "metadata": {},
   "outputs": [
    {
     "data": {
      "text/plain": [
       "True"
      ]
     },
     "execution_count": 2,
     "metadata": {},
     "output_type": "execute_result"
    }
   ],
   "source": [
    "a= \"vani\"   # assignment operation\n",
    "b= \"vani\"\n",
    "a==b        # equal to operation"
   ]
  },
  {
   "cell_type": "code",
   "execution_count": null,
   "id": "887b7ed2",
   "metadata": {},
   "outputs": [],
   "source": [
    "7. Identify the three blocks in this code:"
   ]
  },
  {
   "cell_type": "code",
   "execution_count": 3,
   "id": "c053fe33",
   "metadata": {},
   "outputs": [
    {
     "name": "stdout",
     "output_type": "stream",
     "text": [
      "ham\n",
      "spam\n",
      "spam\n"
     ]
    }
   ],
   "source": [
    "spam = 0\n",
    "if spam == 10:        \n",
    "    print('eggs')         # blocks 1\n",
    "    if spam >5:\n",
    "        print('bacon')        # blocks 2\n",
    "else:\n",
    "    print('ham')          # blocks 3\n",
    "    print('spam')\n",
    "    print('spam')"
   ]
  },
  {
   "cell_type": "code",
   "execution_count": null,
   "id": "76d42f6d",
   "metadata": {},
   "outputs": [],
   "source": [
    "8. Write code that prints Hello if 1 is stored in spam, prints Howdy if 2 is stored in spam, and prints\n",
    "Greetings! if anything else is stored in spam."
   ]
  },
  {
   "cell_type": "code",
   "execution_count": 4,
   "id": "7c068684",
   "metadata": {},
   "outputs": [
    {
     "name": "stdout",
     "output_type": "stream",
     "text": [
      "Greetings!\n"
     ]
    }
   ],
   "source": [
    "spam = 5\n",
    "if spam == 1:\n",
    "    print('Hello')\n",
    "    if spam == 2:\n",
    "         print('Howdy')\n",
    "else:\n",
    "    print ('Greetings!')\n"
   ]
  },
  {
   "cell_type": "code",
   "execution_count": null,
   "id": "014ead71",
   "metadata": {},
   "outputs": [],
   "source": [
    "9.If your programme is stuck in an endless loop, what keys you’ll press?\n",
    "Ctrl+C"
   ]
  },
  {
   "cell_type": "code",
   "execution_count": null,
   "id": "25131543",
   "metadata": {},
   "outputs": [],
   "source": [
    "10. How can you tell the difference between break and continue?\n",
    "Break will terminate the execution of current loop and passes the control over next loop or main body\n",
    "continue will skip the current iteration and execute the next iteration in the loop"
   ]
  },
  {
   "cell_type": "code",
   "execution_count": 5,
   "id": "a594712d",
   "metadata": {},
   "outputs": [
    {
     "name": "stdout",
     "output_type": "stream",
     "text": [
      "kam\n",
      "vani\n"
     ]
    }
   ],
   "source": [
    "l=[\"kam\",'vani', \"bani\",\"yuvan\"]\n",
    "for i in l:\n",
    "    if i==\"bani\":\n",
    "        break\n",
    "    print(i)\n",
    "else:\n",
    "    print(\"this is broke\")"
   ]
  },
  {
   "cell_type": "code",
   "execution_count": 6,
   "id": "7f8df82c",
   "metadata": {},
   "outputs": [
    {
     "name": "stdout",
     "output_type": "stream",
     "text": [
      "kam\n",
      "vani\n",
      "yuvan\n",
      "this is broke\n"
     ]
    }
   ],
   "source": [
    "l=[\"kam\",'vani', \"bani\",\"yuvan\"]\n",
    "for i in l:\n",
    "    if i==\"bani\":\n",
    "        continue\n",
    "    print(i)\n",
    "else:\n",
    "    print(\"this is broke\")"
   ]
  },
  {
   "cell_type": "code",
   "execution_count": null,
   "id": "2e98c534",
   "metadata": {},
   "outputs": [],
   "source": [
    "11. In a for loop, what is the difference between range(10), range(0, 10), and range(0, 10, 1)?\n",
    "All three are same \n",
    "range(10) is range of 10 but by default it is starts from to 10 and step size is 1 by default\n",
    "range(0,10) is range starts from 0 to ends to 10 .step size is 1 by default\n",
    "range(0,10,1) is range starts from 0 to ends to 10 , and 1 is step size"
   ]
  },
  {
   "cell_type": "code",
   "execution_count": null,
   "id": "26b89189",
   "metadata": {},
   "outputs": [],
   "source": [
    "12. Write a short program that prints the numbers 1 to 10 using a for loop. Then write an equivalent\n",
    "program that prints the numbers 1 to 10 using a while loop."
   ]
  },
  {
   "cell_type": "code",
   "execution_count": 7,
   "id": "ec2bb2bf",
   "metadata": {},
   "outputs": [
    {
     "name": "stdout",
     "output_type": "stream",
     "text": [
      "1\n",
      "2\n",
      "3\n",
      "4\n",
      "5\n",
      "6\n",
      "7\n",
      "8\n",
      "9\n",
      "10\n"
     ]
    }
   ],
   "source": [
    "for i in range (1,11):\n",
    "    print(i)"
   ]
  },
  {
   "cell_type": "code",
   "execution_count": 8,
   "id": "9c2dcd99",
   "metadata": {},
   "outputs": [
    {
     "name": "stdout",
     "output_type": "stream",
     "text": [
      "10\n",
      "9\n",
      "8\n",
      "7\n",
      "6\n",
      "5\n",
      "4\n",
      "3\n",
      "2\n",
      "1\n"
     ]
    }
   ],
   "source": [
    "i = 10\n",
    "while (i>0):\n",
    "    print(i)\n",
    "    i -= 1"
   ]
  },
  {
   "cell_type": "code",
   "execution_count": null,
   "id": "775e6518",
   "metadata": {},
   "outputs": [],
   "source": [
    "13. If you had a function named bacon() inside a module named spam, how would you call it after\n",
    "importing spam?\n",
    "This function can be called by spam.bacon()"
   ]
  },
  {
   "cell_type": "code",
   "execution_count": null,
   "id": "2ec8ae63",
   "metadata": {},
   "outputs": [],
   "source": []
  }
 ],
 "metadata": {
  "kernelspec": {
   "display_name": "Python 3 (ipykernel)",
   "language": "python",
   "name": "python3"
  },
  "language_info": {
   "codemirror_mode": {
    "name": "ipython",
    "version": 3
   },
   "file_extension": ".py",
   "mimetype": "text/x-python",
   "name": "python",
   "nbconvert_exporter": "python",
   "pygments_lexer": "ipython3",
   "version": "3.9.13"
  }
 },
 "nbformat": 4,
 "nbformat_minor": 5
}
