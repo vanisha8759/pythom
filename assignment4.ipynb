{
 "cells": [
  {
   "cell_type": "markdown",
   "id": "445a6c46",
   "metadata": {},
   "source": [
    "1. What exactly is []?"
   ]
  },
  {
   "cell_type": "markdown",
   "id": "c65bb337",
   "metadata": {},
   "source": [
    "[] is an empty list, which is a list value that contains no items."
   ]
  },
  {
   "cell_type": "markdown",
   "id": "14c94f1f",
   "metadata": {},
   "source": [
    "2. In a list of values stored in a variable called spam, how would you assign the value &#39;hello&#39; as the\n",
    "third value? (Assume [2, 4, 6, 8, 10] are in spam.)"
   ]
  },
  {
   "cell_type": "code",
   "execution_count": 3,
   "id": "f98d35d1",
   "metadata": {},
   "outputs": [],
   "source": [
    "spam=[2, 4, 6, 8, 10]\n",
    "spam[2]=\"hello\""
   ]
  },
  {
   "cell_type": "markdown",
   "id": "6ac2451f",
   "metadata": {},
   "source": [
    "Let&#39;s pretend the spam includes the list [&#39;a&#39;, &#39;b&#39;, &#39;c&#39;, &#39;d&#39;] for the next three queries."
   ]
  },
  {
   "cell_type": "markdown",
   "id": "382880e2",
   "metadata": {},
   "source": [
    "3. What is the value of spam[int(int(&#39;3&#39; * 2) / 11)]?"
   ]
  },
  {
   "cell_type": "code",
   "execution_count": 6,
   "id": "dc238d09",
   "metadata": {},
   "outputs": [
    {
     "data": {
      "text/plain": [
       "'d'"
      ]
     },
     "execution_count": 6,
     "metadata": {},
     "output_type": "execute_result"
    }
   ],
   "source": [
    "spam=['a', 'b', 'c', 'd']\n",
    "spam[int(int('3' * 2) / 11)]"
   ]
  },
  {
   "cell_type": "markdown",
   "id": "2523c5d0",
   "metadata": {},
   "source": [
    "4. What is the value of spam[-1]?"
   ]
  },
  {
   "cell_type": "markdown",
   "id": "65e99e41",
   "metadata": {},
   "source": [
    "ans: d"
   ]
  },
  {
   "cell_type": "markdown",
   "id": "0b10c5df",
   "metadata": {},
   "source": [
    "5. What is the value of spam[:2]?"
   ]
  },
  {
   "cell_type": "code",
   "execution_count": 9,
   "id": "73d05d28",
   "metadata": {},
   "outputs": [
    {
     "data": {
      "text/plain": [
       "['a', 'b']"
      ]
     },
     "execution_count": 9,
     "metadata": {},
     "output_type": "execute_result"
    }
   ],
   "source": [
    "spam[:2]"
   ]
  },
  {
   "cell_type": "markdown",
   "id": "335cb43d",
   "metadata": {},
   "source": [
    "Let's pretend bacon has the list [3.14, &#39;cat,&#39; 11, &#39;cat,&#39; True] for the next three questions."
   ]
  },
  {
   "cell_type": "markdown",
   "id": "b0a7f02f",
   "metadata": {},
   "source": [
    "6. What is the value of bacon.index('cat')?"
   ]
  },
  {
   "cell_type": "markdown",
   "id": "6a12132a",
   "metadata": {},
   "source": [
    "ans: 1"
   ]
  },
  {
   "cell_type": "markdown",
   "id": "4eaa8125",
   "metadata": {},
   "source": [
    "7. How does bacon.append(99) change the look of the list value in bacon?"
   ]
  },
  {
   "cell_type": "markdown",
   "id": "c613bd3a",
   "metadata": {},
   "source": [
    "ans:  [3.14, 'cat,' 11, 'cat,' True, 99]"
   ]
  },
  {
   "cell_type": "markdown",
   "id": "860f54ee",
   "metadata": {},
   "source": [
    "8. How does bacon.remove(&#39;cat&#39;) change the look of the list in bacon?"
   ]
  },
  {
   "cell_type": "markdown",
   "id": "b3556e75",
   "metadata": {},
   "source": [
    "ans: [3.14,  11, 'cat,' True]"
   ]
  },
  {
   "cell_type": "markdown",
   "id": "b833e3fa",
   "metadata": {},
   "source": [
    "9. What are the list concatenation and list replication operators?"
   ]
  },
  {
   "cell_type": "markdown",
   "id": "7678466b",
   "metadata": {},
   "source": [
    "ans: When + appears between two lists, the expression will be evaluated as a new list that contains the elements from both lists. The elements in the list on the left of + will appear first, and the elements on the right will appear last.\n",
    "\n",
    "\n",
    "When * appears between a list and an integer, the expression will be evaluated as a new list that consists of several copies of the original list concatenated together. The number of copies is set by the integer."
   ]
  },
  {
   "cell_type": "code",
   "execution_count": 23,
   "id": "dacf20b8",
   "metadata": {},
   "outputs": [
    {
     "name": "stdout",
     "output_type": "stream",
     "text": [
      "['A', 'B', 'C', 1, 2, 3]\n",
      "[1, 2, 3, 1, 2, 3, 1, 2, 3, 1, 2, 3]\n"
     ]
    }
   ],
   "source": [
    "letter_list = ['A', 'B', 'C']\n",
    "number_list = [1, 2, 3]\n",
    "\n",
    "print(letter_list + number_list)\n",
    "print(number_list * 4)"
   ]
  },
  {
   "cell_type": "markdown",
   "id": "3ca42a6d",
   "metadata": {},
   "source": [
    "10. What is difference between the list methods append() and insert()?"
   ]
  },
  {
   "cell_type": "markdown",
   "id": "26c95cb9",
   "metadata": {},
   "source": [
    "ans: The difference between the two methods is that . append() adds an item to the end of a list, whereas . insert() inserts and item in a specified position in the list."
   ]
  },
  {
   "cell_type": "markdown",
   "id": "d956fee4",
   "metadata": {},
   "source": [
    "11. What are the two methods for removing items from a list?"
   ]
  },
  {
   "cell_type": "markdown",
   "id": "36320083",
   "metadata": {},
   "source": [
    "ans: The following are the 3 different methods to removing items from a list −\n",
    "\n",
    "Using remove() method\n",
    "\n",
    "Using del keyword\n",
    "\n",
    "Using pop() method"
   ]
  },
  {
   "cell_type": "code",
   "execution_count": 38,
   "id": "e99b2ea3",
   "metadata": {},
   "outputs": [
    {
     "data": {
      "text/plain": [
       "['abc', 22, 'sa']"
      ]
     },
     "execution_count": 38,
     "metadata": {},
     "output_type": "execute_result"
    }
   ],
   "source": [
    "a=[\"vani\", \"abc\", \"new\",22,3,\"sa\"]\n",
    "a.remove(\"vani\")\n",
    "del a[1]\n",
    "a.pop(2)\n",
    "a"
   ]
  },
  {
   "cell_type": "markdown",
   "id": "c17635fa",
   "metadata": {},
   "source": [
    "12. Describe how list values and string values are identical."
   ]
  },
  {
   "cell_type": "markdown",
   "id": "14ad38ad",
   "metadata": {},
   "source": [
    "* Both lists and strings can be passed to len(), have indexes and slices, be used in for loops, be concatenated or replicated, and be used with the in and not in operators.\n",
    "* A string is a character's sequence between single or double quotations. A list is an item sequence in which each item could be anything such as a float, an integer, a string, etc\n",
    "* Both strings and lists have lengths. A length of a string is the number of characters in the string and a length of a list is the number of items in the list.\n",
    "* Both strings and lists have a position. Every character in a string as well as every item in a list has a position which is known as an index."
   ]
  },
  {
   "cell_type": "markdown",
   "id": "3e379306",
   "metadata": {},
   "source": [
    "13. What&#39;s the difference between tuples and lists?"
   ]
  },
  {
   "cell_type": "markdown",
   "id": "84190b44",
   "metadata": {},
   "source": [
    "* List are mutable, Tuples are immutable\n",
    "* A list is initiated with the [] symbol, A tuple is initiated with the () symbol. \n",
    "* Lists have several built-in methods, A tuple does not have many built-in methods because of immutability"
   ]
  },
  {
   "cell_type": "markdown",
   "id": "5e92785e",
   "metadata": {},
   "source": [
    "14. How do you type a tuple value that only contains the integer 42?"
   ]
  },
  {
   "cell_type": "markdown",
   "id": "d6014f9c",
   "metadata": {},
   "source": [
    "ans: (42,)"
   ]
  },
  {
   "cell_type": "code",
   "execution_count": 43,
   "id": "8c93887d",
   "metadata": {},
   "outputs": [
    {
     "data": {
      "text/plain": [
       "tuple"
      ]
     },
     "execution_count": 43,
     "metadata": {},
     "output_type": "execute_result"
    }
   ],
   "source": [
    "a=(42,)\n",
    "type(a)"
   ]
  },
  {
   "cell_type": "markdown",
   "id": "53feade4",
   "metadata": {},
   "source": [
    "15. How do you get a list value&#39;s tuple form? How do you get a tuple value&#39;s list form?"
   ]
  },
  {
   "cell_type": "code",
   "execution_count": 46,
   "id": "00c00bd0",
   "metadata": {},
   "outputs": [
    {
     "name": "stdout",
     "output_type": "stream",
     "text": [
      "(1, 2, 3, 4, 5)\n"
     ]
    },
    {
     "data": {
      "text/plain": [
       "tuple"
      ]
     },
     "execution_count": 46,
     "metadata": {},
     "output_type": "execute_result"
    }
   ],
   "source": [
    "a=[1,2,3,4,5]\n",
    "b=tuple(a)\n",
    "print(b)\n",
    "type(b)"
   ]
  },
  {
   "cell_type": "code",
   "execution_count": 48,
   "id": "a4c33b15",
   "metadata": {},
   "outputs": [
    {
     "name": "stdout",
     "output_type": "stream",
     "text": [
      "[91, 2, 'a', 'b', 3, 4, 5]\n"
     ]
    },
    {
     "data": {
      "text/plain": [
       "list"
      ]
     },
     "execution_count": 48,
     "metadata": {},
     "output_type": "execute_result"
    }
   ],
   "source": [
    "a=(91,2,\"a\",\"b\",3,4,5)\n",
    "b=list(a)\n",
    "print(b)\n",
    "type(b)"
   ]
  },
  {
   "cell_type": "markdown",
   "id": "b0cbf350",
   "metadata": {},
   "source": [
    "16. Variables that &quot;contain&quot; list values are not necessarily lists themselves. Instead, what do they\n",
    "contain?"
   ]
  },
  {
   "cell_type": "markdown",
   "id": "1d8c7d3e",
   "metadata": {},
   "source": [
    "Variables will contain references to list values rather than list values themselves. But for strings and integer values, variables simply contain the string or integer value."
   ]
  },
  {
   "cell_type": "markdown",
   "id": "c83be602",
   "metadata": {},
   "source": [
    "17. How do you distinguish between copy.copy() and copy.deepcopy()?"
   ]
  },
  {
   "cell_type": "markdown",
   "id": "1d7eb322",
   "metadata": {},
   "source": [
    "The copy.copy() function will do a shallow copy of a list, while the copy.deepcopy() function will do a deep copy of a list. That is, only copy.deepcopy() will duplicate any lists inside the list."
   ]
  }
 ],
 "metadata": {
  "kernelspec": {
   "display_name": "Python 3 (ipykernel)",
   "language": "python",
   "name": "python3"
  },
  "language_info": {
   "codemirror_mode": {
    "name": "ipython",
    "version": 3
   },
   "file_extension": ".py",
   "mimetype": "text/x-python",
   "name": "python",
   "nbconvert_exporter": "python",
   "pygments_lexer": "ipython3",
   "version": "3.9.13"
  }
 },
 "nbformat": 4,
 "nbformat_minor": 5
}
